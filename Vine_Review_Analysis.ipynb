{
 "cells": [
  {
   "cell_type": "code",
   "execution_count": 1,
   "id": "56c3447d",
   "metadata": {},
   "outputs": [],
   "source": [
    "import pandas as pd\n",
    "import csv"
   ]
  },
  {
   "cell_type": "code",
   "execution_count": 3,
   "id": "5ab84d0c",
   "metadata": {},
   "outputs": [
    {
     "data": {
      "text/html": [
       "<div>\n",
       "<style scoped>\n",
       "    .dataframe tbody tr th:only-of-type {\n",
       "        vertical-align: middle;\n",
       "    }\n",
       "\n",
       "    .dataframe tbody tr th {\n",
       "        vertical-align: top;\n",
       "    }\n",
       "\n",
       "    .dataframe thead th {\n",
       "        text-align: right;\n",
       "    }\n",
       "</style>\n",
       "<table border=\"1\" class=\"dataframe\">\n",
       "  <thead>\n",
       "    <tr style=\"text-align: right;\">\n",
       "      <th></th>\n",
       "      <th>review_id</th>\n",
       "      <th>star_rating</th>\n",
       "      <th>helpful_votes</th>\n",
       "      <th>total_votes</th>\n",
       "      <th>vine</th>\n",
       "      <th>verified_purchase</th>\n",
       "    </tr>\n",
       "  </thead>\n",
       "  <tbody>\n",
       "    <tr>\n",
       "      <th>0</th>\n",
       "      <td>R3VR960AHLFKDV</td>\n",
       "      <td>4</td>\n",
       "      <td>0</td>\n",
       "      <td>0</td>\n",
       "      <td>N</td>\n",
       "      <td>Y</td>\n",
       "    </tr>\n",
       "    <tr>\n",
       "      <th>1</th>\n",
       "      <td>R16LGVMFKIUT0G</td>\n",
       "      <td>5</td>\n",
       "      <td>0</td>\n",
       "      <td>0</td>\n",
       "      <td>N</td>\n",
       "      <td>Y</td>\n",
       "    </tr>\n",
       "    <tr>\n",
       "      <th>2</th>\n",
       "      <td>R1AIMEEPYHMOE4</td>\n",
       "      <td>5</td>\n",
       "      <td>1</td>\n",
       "      <td>1</td>\n",
       "      <td>N</td>\n",
       "      <td>Y</td>\n",
       "    </tr>\n",
       "    <tr>\n",
       "      <th>3</th>\n",
       "      <td>R1892CCSZWZ9SR</td>\n",
       "      <td>3</td>\n",
       "      <td>0</td>\n",
       "      <td>0</td>\n",
       "      <td>N</td>\n",
       "      <td>Y</td>\n",
       "    </tr>\n",
       "    <tr>\n",
       "      <th>4</th>\n",
       "      <td>R285P679YWVKD1</td>\n",
       "      <td>3</td>\n",
       "      <td>0</td>\n",
       "      <td>0</td>\n",
       "      <td>N</td>\n",
       "      <td>N</td>\n",
       "    </tr>\n",
       "  </tbody>\n",
       "</table>\n",
       "</div>"
      ],
      "text/plain": [
       "        review_id  star_rating  helpful_votes  total_votes vine  \\\n",
       "0  R3VR960AHLFKDV            4              0            0    N   \n",
       "1  R16LGVMFKIUT0G            5              0            0    N   \n",
       "2  R1AIMEEPYHMOE4            5              1            1    N   \n",
       "3  R1892CCSZWZ9SR            3              0            0    N   \n",
       "4  R285P679YWVKD1            3              0            0    N   \n",
       "\n",
       "  verified_purchase  \n",
       "0                 Y  \n",
       "1                 Y  \n",
       "2                 Y  \n",
       "3                 Y  \n",
       "4                 N  "
      ]
     },
     "execution_count": 3,
     "metadata": {},
     "output_type": "execute_result"
    }
   ],
   "source": [
    "vine_df = pd.read_csv('vine_table.csv')\n",
    "vine_df.head()"
   ]
  },
  {
   "cell_type": "markdown",
   "id": "075114b2",
   "metadata": {},
   "source": [
    "Total Votes"
   ]
  },
  {
   "cell_type": "code",
   "execution_count": 5,
   "id": "658e1172",
   "metadata": {},
   "outputs": [
    {
     "data": {
      "text/html": [
       "<div>\n",
       "<style scoped>\n",
       "    .dataframe tbody tr th:only-of-type {\n",
       "        vertical-align: middle;\n",
       "    }\n",
       "\n",
       "    .dataframe tbody tr th {\n",
       "        vertical-align: top;\n",
       "    }\n",
       "\n",
       "    .dataframe thead th {\n",
       "        text-align: right;\n",
       "    }\n",
       "</style>\n",
       "<table border=\"1\" class=\"dataframe\">\n",
       "  <thead>\n",
       "    <tr style=\"text-align: right;\">\n",
       "      <th></th>\n",
       "      <th>review_id</th>\n",
       "      <th>star_rating</th>\n",
       "      <th>helpful_votes</th>\n",
       "      <th>total_votes</th>\n",
       "      <th>vine</th>\n",
       "      <th>verified_purchase</th>\n",
       "    </tr>\n",
       "  </thead>\n",
       "  <tbody>\n",
       "    <tr>\n",
       "      <th>73</th>\n",
       "      <td>RL8D0KJ0J9L0O</td>\n",
       "      <td>5</td>\n",
       "      <td>152</td>\n",
       "      <td>165</td>\n",
       "      <td>N</td>\n",
       "      <td>Y</td>\n",
       "    </tr>\n",
       "    <tr>\n",
       "      <th>157</th>\n",
       "      <td>R1BEINAIQFBRJC</td>\n",
       "      <td>5</td>\n",
       "      <td>21</td>\n",
       "      <td>23</td>\n",
       "      <td>N</td>\n",
       "      <td>Y</td>\n",
       "    </tr>\n",
       "    <tr>\n",
       "      <th>190</th>\n",
       "      <td>R2L59KIJH302P9</td>\n",
       "      <td>4</td>\n",
       "      <td>26</td>\n",
       "      <td>26</td>\n",
       "      <td>N</td>\n",
       "      <td>Y</td>\n",
       "    </tr>\n",
       "    <tr>\n",
       "      <th>221</th>\n",
       "      <td>RR99CPG695T0I</td>\n",
       "      <td>5</td>\n",
       "      <td>215</td>\n",
       "      <td>248</td>\n",
       "      <td>N</td>\n",
       "      <td>N</td>\n",
       "    </tr>\n",
       "    <tr>\n",
       "      <th>237</th>\n",
       "      <td>R1XQNKKUPCMWVO</td>\n",
       "      <td>5</td>\n",
       "      <td>43</td>\n",
       "      <td>44</td>\n",
       "      <td>N</td>\n",
       "      <td>Y</td>\n",
       "    </tr>\n",
       "  </tbody>\n",
       "</table>\n",
       "</div>"
      ],
      "text/plain": [
       "          review_id  star_rating  helpful_votes  total_votes vine  \\\n",
       "73    RL8D0KJ0J9L0O            5            152          165    N   \n",
       "157  R1BEINAIQFBRJC            5             21           23    N   \n",
       "190  R2L59KIJH302P9            4             26           26    N   \n",
       "221   RR99CPG695T0I            5            215          248    N   \n",
       "237  R1XQNKKUPCMWVO            5             43           44    N   \n",
       "\n",
       "    verified_purchase  \n",
       "73                  Y  \n",
       "157                 Y  \n",
       "190                 Y  \n",
       "221                 N  \n",
       "237                 Y  "
      ]
     },
     "execution_count": 5,
     "metadata": {},
     "output_type": "execute_result"
    }
   ],
   "source": [
    "total_votes_filtered = vine_df[vine_df['total_votes'] >= 20]\n",
    "total_votes_filtered.head()"
   ]
  },
  {
   "cell_type": "markdown",
   "id": "e2d4b32a",
   "metadata": {},
   "source": [
    "Helpful Votes"
   ]
  },
  {
   "cell_type": "code",
   "execution_count": 6,
   "id": "42ff96c7",
   "metadata": {},
   "outputs": [
    {
     "data": {
      "text/html": [
       "<div>\n",
       "<style scoped>\n",
       "    .dataframe tbody tr th:only-of-type {\n",
       "        vertical-align: middle;\n",
       "    }\n",
       "\n",
       "    .dataframe tbody tr th {\n",
       "        vertical-align: top;\n",
       "    }\n",
       "\n",
       "    .dataframe thead th {\n",
       "        text-align: right;\n",
       "    }\n",
       "</style>\n",
       "<table border=\"1\" class=\"dataframe\">\n",
       "  <thead>\n",
       "    <tr style=\"text-align: right;\">\n",
       "      <th></th>\n",
       "      <th>review_id</th>\n",
       "      <th>star_rating</th>\n",
       "      <th>helpful_votes</th>\n",
       "      <th>total_votes</th>\n",
       "      <th>vine</th>\n",
       "      <th>verified_purchase</th>\n",
       "    </tr>\n",
       "  </thead>\n",
       "  <tbody>\n",
       "    <tr>\n",
       "      <th>73</th>\n",
       "      <td>RL8D0KJ0J9L0O</td>\n",
       "      <td>5</td>\n",
       "      <td>152</td>\n",
       "      <td>165</td>\n",
       "      <td>N</td>\n",
       "      <td>Y</td>\n",
       "    </tr>\n",
       "    <tr>\n",
       "      <th>157</th>\n",
       "      <td>R1BEINAIQFBRJC</td>\n",
       "      <td>5</td>\n",
       "      <td>21</td>\n",
       "      <td>23</td>\n",
       "      <td>N</td>\n",
       "      <td>Y</td>\n",
       "    </tr>\n",
       "    <tr>\n",
       "      <th>190</th>\n",
       "      <td>R2L59KIJH302P9</td>\n",
       "      <td>4</td>\n",
       "      <td>26</td>\n",
       "      <td>26</td>\n",
       "      <td>N</td>\n",
       "      <td>Y</td>\n",
       "    </tr>\n",
       "    <tr>\n",
       "      <th>221</th>\n",
       "      <td>RR99CPG695T0I</td>\n",
       "      <td>5</td>\n",
       "      <td>215</td>\n",
       "      <td>248</td>\n",
       "      <td>N</td>\n",
       "      <td>N</td>\n",
       "    </tr>\n",
       "    <tr>\n",
       "      <th>237</th>\n",
       "      <td>R1XQNKKUPCMWVO</td>\n",
       "      <td>5</td>\n",
       "      <td>43</td>\n",
       "      <td>44</td>\n",
       "      <td>N</td>\n",
       "      <td>Y</td>\n",
       "    </tr>\n",
       "  </tbody>\n",
       "</table>\n",
       "</div>"
      ],
      "text/plain": [
       "          review_id  star_rating  helpful_votes  total_votes vine  \\\n",
       "73    RL8D0KJ0J9L0O            5            152          165    N   \n",
       "157  R1BEINAIQFBRJC            5             21           23    N   \n",
       "190  R2L59KIJH302P9            4             26           26    N   \n",
       "221   RR99CPG695T0I            5            215          248    N   \n",
       "237  R1XQNKKUPCMWVO            5             43           44    N   \n",
       "\n",
       "    verified_purchase  \n",
       "73                  Y  \n",
       "157                 Y  \n",
       "190                 Y  \n",
       "221                 N  \n",
       "237                 Y  "
      ]
     },
     "execution_count": 6,
     "metadata": {},
     "output_type": "execute_result"
    }
   ],
   "source": [
    "helpful_votes_filtered = total_votes_filtered[total_votes_filtered['helpful_votes']/total_votes_filtered['total_votes'] >= 0.5]\n",
    "helpful_votes_filtered.head()"
   ]
  },
  {
   "cell_type": "markdown",
   "id": "a42ee596",
   "metadata": {},
   "source": [
    "Filter for reviews that are part of the Vine program (Paid)"
   ]
  },
  {
   "cell_type": "code",
   "execution_count": 7,
   "id": "5c2f8d83",
   "metadata": {},
   "outputs": [
    {
     "data": {
      "text/html": [
       "<div>\n",
       "<style scoped>\n",
       "    .dataframe tbody tr th:only-of-type {\n",
       "        vertical-align: middle;\n",
       "    }\n",
       "\n",
       "    .dataframe tbody tr th {\n",
       "        vertical-align: top;\n",
       "    }\n",
       "\n",
       "    .dataframe thead th {\n",
       "        text-align: right;\n",
       "    }\n",
       "</style>\n",
       "<table border=\"1\" class=\"dataframe\">\n",
       "  <thead>\n",
       "    <tr style=\"text-align: right;\">\n",
       "      <th></th>\n",
       "      <th>review_id</th>\n",
       "      <th>star_rating</th>\n",
       "      <th>helpful_votes</th>\n",
       "      <th>total_votes</th>\n",
       "      <th>vine</th>\n",
       "      <th>verified_purchase</th>\n",
       "    </tr>\n",
       "  </thead>\n",
       "  <tbody>\n",
       "    <tr>\n",
       "      <th>5408</th>\n",
       "      <td>R2BQOD1R0228FN</td>\n",
       "      <td>3</td>\n",
       "      <td>17</td>\n",
       "      <td>26</td>\n",
       "      <td>Y</td>\n",
       "      <td>N</td>\n",
       "    </tr>\n",
       "    <tr>\n",
       "      <th>8246</th>\n",
       "      <td>RC31RUPFOHBHQ</td>\n",
       "      <td>4</td>\n",
       "      <td>102</td>\n",
       "      <td>117</td>\n",
       "      <td>Y</td>\n",
       "      <td>N</td>\n",
       "    </tr>\n",
       "    <tr>\n",
       "      <th>12219</th>\n",
       "      <td>REN3N1WITLF1Y</td>\n",
       "      <td>5</td>\n",
       "      <td>33</td>\n",
       "      <td>37</td>\n",
       "      <td>Y</td>\n",
       "      <td>N</td>\n",
       "    </tr>\n",
       "    <tr>\n",
       "      <th>13330</th>\n",
       "      <td>R71RZQ9UZVG47</td>\n",
       "      <td>4</td>\n",
       "      <td>38</td>\n",
       "      <td>47</td>\n",
       "      <td>Y</td>\n",
       "      <td>N</td>\n",
       "    </tr>\n",
       "    <tr>\n",
       "      <th>16942</th>\n",
       "      <td>R38NMQBH88HLM6</td>\n",
       "      <td>4</td>\n",
       "      <td>18</td>\n",
       "      <td>24</td>\n",
       "      <td>Y</td>\n",
       "      <td>N</td>\n",
       "    </tr>\n",
       "  </tbody>\n",
       "</table>\n",
       "</div>"
      ],
      "text/plain": [
       "            review_id  star_rating  helpful_votes  total_votes vine  \\\n",
       "5408   R2BQOD1R0228FN            3             17           26    Y   \n",
       "8246    RC31RUPFOHBHQ            4            102          117    Y   \n",
       "12219   REN3N1WITLF1Y            5             33           37    Y   \n",
       "13330   R71RZQ9UZVG47            4             38           47    Y   \n",
       "16942  R38NMQBH88HLM6            4             18           24    Y   \n",
       "\n",
       "      verified_purchase  \n",
       "5408                  N  \n",
       "8246                  N  \n",
       "12219                 N  \n",
       "13330                 N  \n",
       "16942                 N  "
      ]
     },
     "execution_count": 7,
     "metadata": {},
     "output_type": "execute_result"
    }
   ],
   "source": [
    "vine_program_reviews = helpful_votes_filtered[helpful_votes_filtered['vine'] == 'Y']\n",
    "vine_program_reviews.head()"
   ]
  },
  {
   "cell_type": "markdown",
   "id": "cc477ecc",
   "metadata": {},
   "source": [
    "Filter for reviews that are NOT part of the Vine program"
   ]
  },
  {
   "cell_type": "code",
   "execution_count": 8,
   "id": "0758d6a0",
   "metadata": {},
   "outputs": [
    {
     "data": {
      "text/html": [
       "<div>\n",
       "<style scoped>\n",
       "    .dataframe tbody tr th:only-of-type {\n",
       "        vertical-align: middle;\n",
       "    }\n",
       "\n",
       "    .dataframe tbody tr th {\n",
       "        vertical-align: top;\n",
       "    }\n",
       "\n",
       "    .dataframe thead th {\n",
       "        text-align: right;\n",
       "    }\n",
       "</style>\n",
       "<table border=\"1\" class=\"dataframe\">\n",
       "  <thead>\n",
       "    <tr style=\"text-align: right;\">\n",
       "      <th></th>\n",
       "      <th>review_id</th>\n",
       "      <th>star_rating</th>\n",
       "      <th>helpful_votes</th>\n",
       "      <th>total_votes</th>\n",
       "      <th>vine</th>\n",
       "      <th>verified_purchase</th>\n",
       "    </tr>\n",
       "  </thead>\n",
       "  <tbody>\n",
       "    <tr>\n",
       "      <th>73</th>\n",
       "      <td>RL8D0KJ0J9L0O</td>\n",
       "      <td>5</td>\n",
       "      <td>152</td>\n",
       "      <td>165</td>\n",
       "      <td>N</td>\n",
       "      <td>Y</td>\n",
       "    </tr>\n",
       "    <tr>\n",
       "      <th>157</th>\n",
       "      <td>R1BEINAIQFBRJC</td>\n",
       "      <td>5</td>\n",
       "      <td>21</td>\n",
       "      <td>23</td>\n",
       "      <td>N</td>\n",
       "      <td>Y</td>\n",
       "    </tr>\n",
       "    <tr>\n",
       "      <th>190</th>\n",
       "      <td>R2L59KIJH302P9</td>\n",
       "      <td>4</td>\n",
       "      <td>26</td>\n",
       "      <td>26</td>\n",
       "      <td>N</td>\n",
       "      <td>Y</td>\n",
       "    </tr>\n",
       "    <tr>\n",
       "      <th>221</th>\n",
       "      <td>RR99CPG695T0I</td>\n",
       "      <td>5</td>\n",
       "      <td>215</td>\n",
       "      <td>248</td>\n",
       "      <td>N</td>\n",
       "      <td>N</td>\n",
       "    </tr>\n",
       "    <tr>\n",
       "      <th>237</th>\n",
       "      <td>R1XQNKKUPCMWVO</td>\n",
       "      <td>5</td>\n",
       "      <td>43</td>\n",
       "      <td>44</td>\n",
       "      <td>N</td>\n",
       "      <td>Y</td>\n",
       "    </tr>\n",
       "  </tbody>\n",
       "</table>\n",
       "</div>"
      ],
      "text/plain": [
       "          review_id  star_rating  helpful_votes  total_votes vine  \\\n",
       "73    RL8D0KJ0J9L0O            5            152          165    N   \n",
       "157  R1BEINAIQFBRJC            5             21           23    N   \n",
       "190  R2L59KIJH302P9            4             26           26    N   \n",
       "221   RR99CPG695T0I            5            215          248    N   \n",
       "237  R1XQNKKUPCMWVO            5             43           44    N   \n",
       "\n",
       "    verified_purchase  \n",
       "73                  Y  \n",
       "157                 Y  \n",
       "190                 Y  \n",
       "221                 N  \n",
       "237                 Y  "
      ]
     },
     "execution_count": 8,
     "metadata": {},
     "output_type": "execute_result"
    }
   ],
   "source": [
    "not_vine_reviews = helpful_votes_filtered[helpful_votes_filtered['vine'] == 'N']\n",
    "not_vine_reviews.head()"
   ]
  },
  {
   "cell_type": "markdown",
   "id": "1b4b8842",
   "metadata": {},
   "source": [
    "5 Star Review Analysis"
   ]
  },
  {
   "cell_type": "code",
   "execution_count": 9,
   "id": "e9b13671",
   "metadata": {},
   "outputs": [
    {
     "data": {
      "text/plain": [
       "136"
      ]
     },
     "execution_count": 9,
     "metadata": {},
     "output_type": "execute_result"
    }
   ],
   "source": [
    "count_vine = len(vine_program_reviews)\n",
    "count_vine"
   ]
  },
  {
   "cell_type": "code",
   "execution_count": 10,
   "id": "522fd7df",
   "metadata": {},
   "outputs": [
    {
     "data": {
      "text/plain": [
       "18019"
      ]
     },
     "execution_count": 10,
     "metadata": {},
     "output_type": "execute_result"
    }
   ],
   "source": [
    "count_not_vine = len(not_vine_reviews)\n",
    "count_not_vine"
   ]
  },
  {
   "cell_type": "code",
   "execution_count": 12,
   "id": "b4f1857b",
   "metadata": {},
   "outputs": [
    {
     "data": {
      "text/plain": [
       "74"
      ]
     },
     "execution_count": 12,
     "metadata": {},
     "output_type": "execute_result"
    }
   ],
   "source": [
    "rating_vine = len(vine_program_reviews[vine_program_reviews['star_rating']==5])\n",
    "rating_vine"
   ]
  },
  {
   "cell_type": "code",
   "execution_count": 15,
   "id": "a9316d89",
   "metadata": {},
   "outputs": [
    {
     "data": {
      "text/plain": [
       "8482"
      ]
     },
     "execution_count": 15,
     "metadata": {},
     "output_type": "execute_result"
    }
   ],
   "source": [
    "rating_not_vine = len(not_vine_reviews[not_vine_reviews['star_rating']==5])\n",
    "rating_not_vine"
   ]
  },
  {
   "cell_type": "code",
   "execution_count": 16,
   "id": "39e255cd",
   "metadata": {},
   "outputs": [
    {
     "data": {
      "text/plain": [
       "0.5441176470588235"
      ]
     },
     "execution_count": 16,
     "metadata": {},
     "output_type": "execute_result"
    }
   ],
   "source": [
    "rating_vine/count_vine"
   ]
  },
  {
   "cell_type": "code",
   "execution_count": 17,
   "id": "5506d937",
   "metadata": {},
   "outputs": [
    {
     "data": {
      "text/plain": [
       "0.47072534546867195"
      ]
     },
     "execution_count": 17,
     "metadata": {},
     "output_type": "execute_result"
    }
   ],
   "source": [
    "rating_not_vine/count_not_vine"
   ]
  },
  {
   "cell_type": "markdown",
   "id": "cd38b656",
   "metadata": {},
   "source": [
    "Paid review Summary: \n",
    "\n",
    "review count: 136, \n",
    "5 star reviews: 74 ,\n",
    "Percentage of 5 star reviews: 54.4% ,\n",
    "\n",
    "Unpaid review summary:\n",
    "review count: 18019,\n",
    "5 star reviews: 8482,\n",
    "Percentage of 5 star reviews: 47%,"
   ]
  },
  {
   "cell_type": "code",
   "execution_count": null,
   "id": "bfadbf63",
   "metadata": {},
   "outputs": [],
   "source": []
  }
 ],
 "metadata": {
  "kernelspec": {
   "display_name": "PythonData",
   "language": "python",
   "name": "pythondata"
  },
  "language_info": {
   "codemirror_mode": {
    "name": "ipython",
    "version": 3
   },
   "file_extension": ".py",
   "mimetype": "text/x-python",
   "name": "python",
   "nbconvert_exporter": "python",
   "pygments_lexer": "ipython3",
   "version": "3.7.13"
  }
 },
 "nbformat": 4,
 "nbformat_minor": 5
}
